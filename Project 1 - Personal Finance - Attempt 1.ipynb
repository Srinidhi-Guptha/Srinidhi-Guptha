{
 "cells": [
  {
   "cell_type": "code",
   "execution_count": 2,
   "id": "d0efb689",
   "metadata": {},
   "outputs": [],
   "source": [
    "# Importing Libraries for EDA\n",
    "\n",
    "import numpy as np\n",
    "import pandas as pd\n",
    "import matplotlib.pyplot as plt\n",
    "import seaborn as sns"
   ]
  },
  {
   "cell_type": "code",
   "execution_count": 4,
   "id": "3b737237",
   "metadata": {},
   "outputs": [
    {
     "data": {
      "text/html": [
       "<div>\n",
       "<style scoped>\n",
       "    .dataframe tbody tr th:only-of-type {\n",
       "        vertical-align: middle;\n",
       "    }\n",
       "\n",
       "    .dataframe tbody tr th {\n",
       "        vertical-align: top;\n",
       "    }\n",
       "\n",
       "    .dataframe thead th {\n",
       "        text-align: right;\n",
       "    }\n",
       "</style>\n",
       "<table border=\"1\" class=\"dataframe\">\n",
       "  <thead>\n",
       "    <tr style=\"text-align: right;\">\n",
       "      <th></th>\n",
       "      <th>Date</th>\n",
       "      <th>Narration</th>\n",
       "      <th>Chq./Ref.No.</th>\n",
       "      <th>Value Dt</th>\n",
       "      <th>Withdrawal Amt.</th>\n",
       "      <th>Deposit Amt.</th>\n",
       "      <th>Closing Balance</th>\n",
       "    </tr>\n",
       "  </thead>\n",
       "  <tbody>\n",
       "    <tr>\n",
       "      <th>0</th>\n",
       "      <td>05-07-2022</td>\n",
       "      <td>HDFC BANK NEW AC SRINIDHI GUPTHA  N L -: AXIS ...</td>\n",
       "      <td>7484</td>\n",
       "      <td>06-07-2022</td>\n",
       "      <td>NaN</td>\n",
       "      <td>20000.0</td>\n",
       "      <td>20000.0</td>\n",
       "    </tr>\n",
       "    <tr>\n",
       "      <th>1</th>\n",
       "      <td>07-07-2022</td>\n",
       "      <td>NEFT CR-BDBL0001936-MR. SRINIDHI GUPTHA NEHRU ...</td>\n",
       "      <td>BDBLH22618321497</td>\n",
       "      <td>07-07-2022</td>\n",
       "      <td>NaN</td>\n",
       "      <td>190000.0</td>\n",
       "      <td>210000.0</td>\n",
       "    </tr>\n",
       "    <tr>\n",
       "      <th>2</th>\n",
       "      <td>08-07-2022</td>\n",
       "      <td>ATW-419188XXXXXX2408-CHBGP001-BANGARAPET</td>\n",
       "      <td>9363</td>\n",
       "      <td>08-07-2022</td>\n",
       "      <td>500.0</td>\n",
       "      <td>NaN</td>\n",
       "      <td>209500.0</td>\n",
       "    </tr>\n",
       "    <tr>\n",
       "      <th>3</th>\n",
       "      <td>08-07-2022</td>\n",
       "      <td>UPI-SKILLSLASH ACADEMY-SKILLSLASHACADEMY.RZP@I...</td>\n",
       "      <td>2.18961E+11</td>\n",
       "      <td>08-07-2022</td>\n",
       "      <td>5000.0</td>\n",
       "      <td>NaN</td>\n",
       "      <td>204500.0</td>\n",
       "    </tr>\n",
       "    <tr>\n",
       "      <th>4</th>\n",
       "      <td>08-07-2022</td>\n",
       "      <td>NEFT CR-UTIB0003544-SRINIDHI GUPTHA N L-SRINID...</td>\n",
       "      <td>AXMB221895657608</td>\n",
       "      <td>08-07-2022</td>\n",
       "      <td>NaN</td>\n",
       "      <td>50000.0</td>\n",
       "      <td>254500.0</td>\n",
       "    </tr>\n",
       "  </tbody>\n",
       "</table>\n",
       "</div>"
      ],
      "text/plain": [
       "         Date                                          Narration  \\\n",
       "0  05-07-2022  HDFC BANK NEW AC SRINIDHI GUPTHA  N L -: AXIS ...   \n",
       "1  07-07-2022  NEFT CR-BDBL0001936-MR. SRINIDHI GUPTHA NEHRU ...   \n",
       "2  08-07-2022           ATW-419188XXXXXX2408-CHBGP001-BANGARAPET   \n",
       "3  08-07-2022  UPI-SKILLSLASH ACADEMY-SKILLSLASHACADEMY.RZP@I...   \n",
       "4  08-07-2022  NEFT CR-UTIB0003544-SRINIDHI GUPTHA N L-SRINID...   \n",
       "\n",
       "       Chq./Ref.No.    Value Dt  Withdrawal Amt.  Deposit Amt.  \\\n",
       "0              7484  06-07-2022              NaN       20000.0   \n",
       "1  BDBLH22618321497  07-07-2022              NaN      190000.0   \n",
       "2              9363  08-07-2022            500.0           NaN   \n",
       "3       2.18961E+11  08-07-2022           5000.0           NaN   \n",
       "4  AXMB221895657608  08-07-2022              NaN       50000.0   \n",
       "\n",
       "   Closing Balance  \n",
       "0          20000.0  \n",
       "1         210000.0  \n",
       "2         209500.0  \n",
       "3         204500.0  \n",
       "4         254500.0  "
      ]
     },
     "execution_count": 4,
     "metadata": {},
     "output_type": "execute_result"
    }
   ],
   "source": [
    "df = pd.read_csv(\"D:/Data Science - The Dream/Projects/Project 1 - Personal Finance/HDFC Account Statement.csv\")\n",
    "df.head()"
   ]
  },
  {
   "cell_type": "code",
   "execution_count": 6,
   "id": "3024d568",
   "metadata": {},
   "outputs": [
    {
     "data": {
      "text/plain": [
       "(138, 7)"
      ]
     },
     "execution_count": 6,
     "metadata": {},
     "output_type": "execute_result"
    }
   ],
   "source": [
    "df.shape"
   ]
  },
  {
   "cell_type": "code",
   "execution_count": 7,
   "id": "724dab59",
   "metadata": {},
   "outputs": [
    {
     "data": {
      "text/html": [
       "<div>\n",
       "<style scoped>\n",
       "    .dataframe tbody tr th:only-of-type {\n",
       "        vertical-align: middle;\n",
       "    }\n",
       "\n",
       "    .dataframe tbody tr th {\n",
       "        vertical-align: top;\n",
       "    }\n",
       "\n",
       "    .dataframe thead th {\n",
       "        text-align: right;\n",
       "    }\n",
       "</style>\n",
       "<table border=\"1\" class=\"dataframe\">\n",
       "  <thead>\n",
       "    <tr style=\"text-align: right;\">\n",
       "      <th></th>\n",
       "      <th>count</th>\n",
       "      <th>mean</th>\n",
       "      <th>std</th>\n",
       "      <th>min</th>\n",
       "      <th>25%</th>\n",
       "      <th>50%</th>\n",
       "      <th>75%</th>\n",
       "      <th>max</th>\n",
       "    </tr>\n",
       "  </thead>\n",
       "  <tbody>\n",
       "    <tr>\n",
       "      <th>Withdrawal Amt.</th>\n",
       "      <td>90.0</td>\n",
       "      <td>24160.057222</td>\n",
       "      <td>65853.650688</td>\n",
       "      <td>5.90</td>\n",
       "      <td>1312.50</td>\n",
       "      <td>5272.000</td>\n",
       "      <td>12992.0000</td>\n",
       "      <td>400000.00</td>\n",
       "    </tr>\n",
       "    <tr>\n",
       "      <th>Deposit Amt.</th>\n",
       "      <td>48.0</td>\n",
       "      <td>54762.682500</td>\n",
       "      <td>85702.455872</td>\n",
       "      <td>0.01</td>\n",
       "      <td>2031.00</td>\n",
       "      <td>50000.000</td>\n",
       "      <td>50000.0000</td>\n",
       "      <td>535000.00</td>\n",
       "    </tr>\n",
       "    <tr>\n",
       "      <th>Closing Balance</th>\n",
       "      <td>138.0</td>\n",
       "      <td>301630.241739</td>\n",
       "      <td>146066.606218</td>\n",
       "      <td>12336.92</td>\n",
       "      <td>210034.24</td>\n",
       "      <td>270227.325</td>\n",
       "      <td>372188.2075</td>\n",
       "      <td>585837.92</td>\n",
       "    </tr>\n",
       "  </tbody>\n",
       "</table>\n",
       "</div>"
      ],
      "text/plain": [
       "                 count           mean            std       min        25%  \\\n",
       "Withdrawal Amt.   90.0   24160.057222   65853.650688      5.90    1312.50   \n",
       "Deposit Amt.      48.0   54762.682500   85702.455872      0.01    2031.00   \n",
       "Closing Balance  138.0  301630.241739  146066.606218  12336.92  210034.24   \n",
       "\n",
       "                        50%          75%        max  \n",
       "Withdrawal Amt.    5272.000   12992.0000  400000.00  \n",
       "Deposit Amt.      50000.000   50000.0000  535000.00  \n",
       "Closing Balance  270227.325  372188.2075  585837.92  "
      ]
     },
     "execution_count": 7,
     "metadata": {},
     "output_type": "execute_result"
    }
   ],
   "source": [
    "df.describe().transpose()"
   ]
  },
  {
   "cell_type": "code",
   "execution_count": 8,
   "id": "d66f9548",
   "metadata": {},
   "outputs": [
    {
     "data": {
      "text/plain": [
       "Date               138\n",
       "Narration          138\n",
       "Chq./Ref.No.       138\n",
       "Value Dt           138\n",
       "Withdrawal Amt.    138\n",
       "Deposit Amt.       138\n",
       "Closing Balance    138\n",
       "dtype: int64"
      ]
     },
     "execution_count": 8,
     "metadata": {},
     "output_type": "execute_result"
    }
   ],
   "source": [
    "df.isnull().count()"
   ]
  },
  {
   "cell_type": "code",
   "execution_count": 9,
   "id": "6ce59a18",
   "metadata": {},
   "outputs": [
    {
     "name": "stdout",
     "output_type": "stream",
     "text": [
      "<class 'pandas.core.frame.DataFrame'>\n",
      "RangeIndex: 138 entries, 0 to 137\n",
      "Data columns (total 7 columns):\n",
      " #   Column           Non-Null Count  Dtype  \n",
      "---  ------           --------------  -----  \n",
      " 0   Date             138 non-null    object \n",
      " 1   Narration        138 non-null    object \n",
      " 2   Chq./Ref.No.     138 non-null    object \n",
      " 3   Value Dt         138 non-null    object \n",
      " 4   Withdrawal Amt.  90 non-null     float64\n",
      " 5   Deposit Amt.     48 non-null     float64\n",
      " 6   Closing Balance  138 non-null    float64\n",
      "dtypes: float64(3), object(4)\n",
      "memory usage: 7.7+ KB\n"
     ]
    }
   ],
   "source": [
    "df.info()"
   ]
  },
  {
   "cell_type": "code",
   "execution_count": 11,
   "id": "d723c076",
   "metadata": {},
   "outputs": [],
   "source": [
    "df = df.drop([\"Chq./Ref.No.\",\"Closing Balance\",\"Value Dt\"], axis = 1)"
   ]
  },
  {
   "cell_type": "code",
   "execution_count": 12,
   "id": "bbe1245d",
   "metadata": {},
   "outputs": [
    {
     "data": {
      "text/html": [
       "<div>\n",
       "<style scoped>\n",
       "    .dataframe tbody tr th:only-of-type {\n",
       "        vertical-align: middle;\n",
       "    }\n",
       "\n",
       "    .dataframe tbody tr th {\n",
       "        vertical-align: top;\n",
       "    }\n",
       "\n",
       "    .dataframe thead th {\n",
       "        text-align: right;\n",
       "    }\n",
       "</style>\n",
       "<table border=\"1\" class=\"dataframe\">\n",
       "  <thead>\n",
       "    <tr style=\"text-align: right;\">\n",
       "      <th></th>\n",
       "      <th>Date</th>\n",
       "      <th>Narration</th>\n",
       "      <th>Withdrawal Amt.</th>\n",
       "      <th>Deposit Amt.</th>\n",
       "    </tr>\n",
       "  </thead>\n",
       "  <tbody>\n",
       "    <tr>\n",
       "      <th>0</th>\n",
       "      <td>05-07-2022</td>\n",
       "      <td>HDFC BANK NEW AC SRINIDHI GUPTHA  N L -: AXIS ...</td>\n",
       "      <td>NaN</td>\n",
       "      <td>20000.0</td>\n",
       "    </tr>\n",
       "    <tr>\n",
       "      <th>1</th>\n",
       "      <td>07-07-2022</td>\n",
       "      <td>NEFT CR-BDBL0001936-MR. SRINIDHI GUPTHA NEHRU ...</td>\n",
       "      <td>NaN</td>\n",
       "      <td>190000.0</td>\n",
       "    </tr>\n",
       "    <tr>\n",
       "      <th>2</th>\n",
       "      <td>08-07-2022</td>\n",
       "      <td>ATW-419188XXXXXX2408-CHBGP001-BANGARAPET</td>\n",
       "      <td>500.0</td>\n",
       "      <td>NaN</td>\n",
       "    </tr>\n",
       "    <tr>\n",
       "      <th>3</th>\n",
       "      <td>08-07-2022</td>\n",
       "      <td>UPI-SKILLSLASH ACADEMY-SKILLSLASHACADEMY.RZP@I...</td>\n",
       "      <td>5000.0</td>\n",
       "      <td>NaN</td>\n",
       "    </tr>\n",
       "    <tr>\n",
       "      <th>4</th>\n",
       "      <td>08-07-2022</td>\n",
       "      <td>NEFT CR-UTIB0003544-SRINIDHI GUPTHA N L-SRINID...</td>\n",
       "      <td>NaN</td>\n",
       "      <td>50000.0</td>\n",
       "    </tr>\n",
       "    <tr>\n",
       "      <th>5</th>\n",
       "      <td>09-07-2022</td>\n",
       "      <td>UPI-RAJSHEKER K N-9035209040@YBL-HDFC0003352-2...</td>\n",
       "      <td>300.0</td>\n",
       "      <td>NaN</td>\n",
       "    </tr>\n",
       "    <tr>\n",
       "      <th>6</th>\n",
       "      <td>10-07-2022</td>\n",
       "      <td>NEFT CR-UTIB0003544-SRINIDHI GUPTHA N L-SRINID...</td>\n",
       "      <td>NaN</td>\n",
       "      <td>50000.0</td>\n",
       "    </tr>\n",
       "    <tr>\n",
       "      <th>7</th>\n",
       "      <td>11-07-2022</td>\n",
       "      <td>UPI-MULAGAPATI RATNA KUM-7330930352@YBL-IBKL00...</td>\n",
       "      <td>50000.0</td>\n",
       "      <td>NaN</td>\n",
       "    </tr>\n",
       "    <tr>\n",
       "      <th>8</th>\n",
       "      <td>11-07-2022</td>\n",
       "      <td>UPI-GOVINDAIAH V T-9900415720@YBL-CNRB0000000-...</td>\n",
       "      <td>140.0</td>\n",
       "      <td>NaN</td>\n",
       "    </tr>\n",
       "    <tr>\n",
       "      <th>9</th>\n",
       "      <td>14-07-2022</td>\n",
       "      <td>UPI-KAVITHAA WO NAGARAJN-605285@YBL-PKGB001054...</td>\n",
       "      <td>NaN</td>\n",
       "      <td>1000.0</td>\n",
       "    </tr>\n",
       "  </tbody>\n",
       "</table>\n",
       "</div>"
      ],
      "text/plain": [
       "         Date                                          Narration  \\\n",
       "0  05-07-2022  HDFC BANK NEW AC SRINIDHI GUPTHA  N L -: AXIS ...   \n",
       "1  07-07-2022  NEFT CR-BDBL0001936-MR. SRINIDHI GUPTHA NEHRU ...   \n",
       "2  08-07-2022           ATW-419188XXXXXX2408-CHBGP001-BANGARAPET   \n",
       "3  08-07-2022  UPI-SKILLSLASH ACADEMY-SKILLSLASHACADEMY.RZP@I...   \n",
       "4  08-07-2022  NEFT CR-UTIB0003544-SRINIDHI GUPTHA N L-SRINID...   \n",
       "5  09-07-2022  UPI-RAJSHEKER K N-9035209040@YBL-HDFC0003352-2...   \n",
       "6  10-07-2022  NEFT CR-UTIB0003544-SRINIDHI GUPTHA N L-SRINID...   \n",
       "7  11-07-2022  UPI-MULAGAPATI RATNA KUM-7330930352@YBL-IBKL00...   \n",
       "8  11-07-2022  UPI-GOVINDAIAH V T-9900415720@YBL-CNRB0000000-...   \n",
       "9  14-07-2022  UPI-KAVITHAA WO NAGARAJN-605285@YBL-PKGB001054...   \n",
       "\n",
       "   Withdrawal Amt.  Deposit Amt.  \n",
       "0              NaN       20000.0  \n",
       "1              NaN      190000.0  \n",
       "2            500.0           NaN  \n",
       "3           5000.0           NaN  \n",
       "4              NaN       50000.0  \n",
       "5            300.0           NaN  \n",
       "6              NaN       50000.0  \n",
       "7          50000.0           NaN  \n",
       "8            140.0           NaN  \n",
       "9              NaN        1000.0  "
      ]
     },
     "execution_count": 12,
     "metadata": {},
     "output_type": "execute_result"
    }
   ],
   "source": [
    "df.head(10)"
   ]
  },
  {
   "cell_type": "code",
   "execution_count": 19,
   "id": "a688c81d",
   "metadata": {},
   "outputs": [
    {
     "data": {
      "image/png": "[encoded data removed]",
      "text/plain": [
       "<Figure size 432x288 with 1 Axes>"
      ]
     },
     "metadata": {
      "needs_background": "light"
     },
     "output_type": "display_data"
    }
   ],
   "source": [
    "plt.scatter(x= df[\"Date\"], y = df[\"Deposit Amt.\"])\n",
    "plt.show()"
   ]
  },
  {
   "cell_type": "code",
   "execution_count": 28,
   "id": "6939b903",
   "metadata": {},
   "outputs": [
    {
     "data": {
      "image/png": "[encoded data removed]",
      "text/plain": [
       "<Figure size 432x288 with 1 Axes>"
      ]
     },
     "metadata": {
      "needs_background": "light"
     },
     "output_type": "display_data"
    }
   ],
   "source": [
    "sns.lineplot(x= df[\"Date\"], y = df[\"Deposit Amt.\"])\n",
    "plt.show()"
   ]
  },
  {
   "cell_type": "code",
   "execution_count": 29,
   "id": "cb8144a2",
   "metadata": {},
   "outputs": [
    {
     "data": {
      "image/png": "[encoded data removed]",
      "text/plain": [
       "<Figure size 432x288 with 1 Axes>"
      ]
     },
     "metadata": {
      "needs_background": "light"
     },
     "output_type": "display_data"
    }
   ],
   "source": [
    "sns.lineplot(x= df[\"Date\"], y = df[\"Withdrawal Amt.\"])\n",
    "plt.show()"
   ]
  },
  {
   "cell_type": "code",
   "execution_count": 31,
   "id": "ca86b8a8",
   "metadata": {},
   "outputs": [
    {
     "data": {
      "text/plain": [
       "<seaborn.axisgrid.PairGrid at 0x19d0a220100>"
      ]
     },
     "execution_count": 31,
     "metadata": {},
     "output_type": "execute_result"
    },
    {
     "data": {
      "image/png": "[encoded data removed]",
      "text/plain": [
       "<Figure size 360x360 with 6 Axes>"
      ]
     },
     "metadata": {
      "needs_background": "light"
     },
     "output_type": "display_data"
    }
   ],
   "source": [
    "sns.pairplot(df, kind=\"kde\")"
   ]
  },
  {
   "cell_type": "code",
   "execution_count": null,
   "id": "0223a9f7",
   "metadata": {},
   "outputs": [],
   "source": []
  }
 ],
 "metadata": {
  "kernelspec": {
   "display_name": "Python 3 (ipykernel)",
   "language": "python",
   "name": "python3"
  },
  "language_info": {
   "codemirror_mode": {
    "name": "ipython",
    "version": 3
   },
   "file_extension": ".py",
   "mimetype": "text/x-python",
   "name": "python",
   "nbconvert_exporter": "python",
   "pygments_lexer": "ipython3",
   "version": "3.9.12"
  }
 },
 "nbformat": 4,
 "nbformat_minor": 5
}
