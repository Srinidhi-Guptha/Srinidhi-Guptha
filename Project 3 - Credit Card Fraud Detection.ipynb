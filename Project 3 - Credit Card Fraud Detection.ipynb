{
 "cells": [
  {
   "cell_type": "markdown",
   "id": "a71eb0bf",
   "metadata": {},
   "source": [
    "# Credit Card Fraud Detection"
   ]
  },
  {
   "cell_type": "markdown",
   "id": "2ac88dd3",
   "metadata": {},
   "source": [
    "## Dataset Brief\n",
    "\n",
    "1. TRANSACTION_ID --- Unique Transaction Number\n",
    "2. TX_DATETIME --- Date of Transaction made\n",
    "3. CUSTOMER_ID --- Unique Customer Number\n",
    "4. TERMINAL_ID --- Unique Terminal ID where Transaction has been made\n",
    "5. TX_AMOUNT --- Transaction Amount\n",
    "6. TX_TIME_SECONDS --- Timetaken for Completing Transaction in Seconds\n",
    "7. TX_TIME_DAYS --- Timetaken for Completing Transaction in Days\n",
    "8. TX_FRAUD --- 0 means Legitimate Transaction & 1 means Fraud Transaction\n",
    "9. TX_FRAUD_SCENARIO --- 1, 2 & 3 Describes Type of Fraud Transaction"
   ]
  },
  {
   "cell_type": "code",
   "execution_count": 1,
   "id": "23857aa1",
   "metadata": {},
   "outputs": [
    {
     "name": "stdout",
     "output_type": "stream",
     "text": [
      "Requirement already satisfied: imblearn in c:\\users\\srini\\anaconda3\\lib\\site-packages (0.0)\n",
      "Requirement already satisfied: imbalanced-learn in c:\\users\\srini\\anaconda3\\lib\\site-packages (from imblearn) (0.10.1)\n",
      "Requirement already satisfied: scikit-learn>=1.0.2 in c:\\users\\srini\\anaconda3\\lib\\site-packages (from imbalanced-learn->imblearn) (1.0.2)\n",
      "Requirement already satisfied: joblib>=1.1.1 in c:\\users\\srini\\anaconda3\\lib\\site-packages (from imbalanced-learn->imblearn) (1.2.0)\n",
      "Requirement already satisfied: numpy>=1.17.3 in c:\\users\\srini\\anaconda3\\lib\\site-packages (from imbalanced-learn->imblearn) (1.21.5)\n",
      "Requirement already satisfied: threadpoolctl>=2.0.0 in c:\\users\\srini\\anaconda3\\lib\\site-packages (from imbalanced-learn->imblearn) (2.2.0)\n",
      "Requirement already satisfied: scipy>=1.3.2 in c:\\users\\srini\\anaconda3\\lib\\site-packages (from imbalanced-learn->imblearn) (1.7.3)\n"
     ]
    }
   ],
   "source": [
    "! pip install imblearn"
   ]
  },
  {
   "cell_type": "code",
   "execution_count": 2,
   "id": "0fb93055",
   "metadata": {},
   "outputs": [],
   "source": [
    "# Importing Libraries for Data Cleaning & EDA\n",
    "\n",
    "import numpy as np\n",
    "import pandas as pd\n",
    "import matplotlib.pyplot as plt\n",
    "import seaborn as sns\n",
    "%matplotlib inline\n",
    "\n",
    "# Data Preprocessing Libraries\n",
    "\n",
    "from sklearn.model_selection import train_test_split\n",
    "\n",
    "# Best Parameters Selection Libraries\n",
    "\n",
    "from sklearn.model_selection import GridSearchCV\n",
    "\n",
    "# Model Metrics Libraries\n",
    "\n",
    "from sklearn.metrics import accuracy_score\n",
    "from sklearn.metrics import confusion_matrix\n",
    "from sklearn.metrics import precision_score\n",
    "from sklearn.metrics import recall_score\n",
    "\n",
    "# Model Build Libraries\n",
    "# Logistic Regression\n",
    "\n",
    "from sklearn.linear_model import LogisticRegression\n",
    "\n",
    "# K nearest neighbour\n",
    "\n",
    "from sklearn.neighbors import KNeighborsClassifier\n",
    "\n",
    "\n",
    "# Oversampling Libraries\n",
    "\n",
    "from imblearn.over_sampling import SMOTE"
   ]
  },
  {
   "cell_type": "markdown",
   "id": "00e54df5",
   "metadata": {},
   "source": [
    "## Data Checking"
   ]
  },
  {
   "cell_type": "code",
   "execution_count": 3,
   "id": "04896f0a",
   "metadata": {},
   "outputs": [],
   "source": [
    "# Import the dataset\n",
    "\n",
    "data = pd.read_csv(\"D:/04 Data Science - The Dream/Projects/Project 3 - Credit Card Fraud Detection/Final Transactions.csv\")"
   ]
  },
  {
   "cell_type": "code",
   "execution_count": 4,
   "id": "55911e7e",
   "metadata": {},
   "outputs": [
    {
     "data": {
      "text/html": [
       "<div>\n",
       "<style scoped>\n",
       "    .dataframe tbody tr th:only-of-type {\n",
       "        vertical-align: middle;\n",
       "    }\n",
       "\n",
       "    .dataframe tbody tr th {\n",
       "        vertical-align: top;\n",
       "    }\n",
       "\n",
       "    .dataframe thead th {\n",
       "        text-align: right;\n",
       "    }\n",
       "</style>\n",
       "<table border=\"1\" class=\"dataframe\">\n",
       "  <thead>\n",
       "    <tr style=\"text-align: right;\">\n",
       "      <th></th>\n",
       "      <th>Unnamed: 0</th>\n",
       "      <th>TRANSACTION_ID</th>\n",
       "      <th>TX_DATETIME</th>\n",
       "      <th>CUSTOMER_ID</th>\n",
       "      <th>TERMINAL_ID</th>\n",
       "      <th>TX_AMOUNT</th>\n",
       "      <th>TX_TIME_SECONDS</th>\n",
       "      <th>TX_TIME_DAYS</th>\n",
       "      <th>TX_FRAUD</th>\n",
       "      <th>TX_FRAUD_SCENARIO</th>\n",
       "    </tr>\n",
       "  </thead>\n",
       "  <tbody>\n",
       "    <tr>\n",
       "      <th>0</th>\n",
       "      <td>0</td>\n",
       "      <td>0</td>\n",
       "      <td>2023-01-01 00:00:31</td>\n",
       "      <td>596</td>\n",
       "      <td>3156</td>\n",
       "      <td>533.07</td>\n",
       "      <td>31</td>\n",
       "      <td>0</td>\n",
       "      <td>0</td>\n",
       "      <td>0</td>\n",
       "    </tr>\n",
       "    <tr>\n",
       "      <th>1</th>\n",
       "      <td>1</td>\n",
       "      <td>1</td>\n",
       "      <td>2023-01-01 00:02:10</td>\n",
       "      <td>4961</td>\n",
       "      <td>3412</td>\n",
       "      <td>808.56</td>\n",
       "      <td>130</td>\n",
       "      <td>0</td>\n",
       "      <td>0</td>\n",
       "      <td>0</td>\n",
       "    </tr>\n",
       "    <tr>\n",
       "      <th>2</th>\n",
       "      <td>2</td>\n",
       "      <td>2</td>\n",
       "      <td>2023-01-01 00:07:56</td>\n",
       "      <td>2</td>\n",
       "      <td>1365</td>\n",
       "      <td>1442.94</td>\n",
       "      <td>476</td>\n",
       "      <td>0</td>\n",
       "      <td>1</td>\n",
       "      <td>1</td>\n",
       "    </tr>\n",
       "    <tr>\n",
       "      <th>3</th>\n",
       "      <td>3</td>\n",
       "      <td>3</td>\n",
       "      <td>2023-01-01 00:09:29</td>\n",
       "      <td>4128</td>\n",
       "      <td>8737</td>\n",
       "      <td>620.65</td>\n",
       "      <td>569</td>\n",
       "      <td>0</td>\n",
       "      <td>0</td>\n",
       "      <td>0</td>\n",
       "    </tr>\n",
       "    <tr>\n",
       "      <th>4</th>\n",
       "      <td>4</td>\n",
       "      <td>4</td>\n",
       "      <td>2023-01-01 00:10:34</td>\n",
       "      <td>927</td>\n",
       "      <td>9906</td>\n",
       "      <td>490.66</td>\n",
       "      <td>634</td>\n",
       "      <td>0</td>\n",
       "      <td>0</td>\n",
       "      <td>0</td>\n",
       "    </tr>\n",
       "  </tbody>\n",
       "</table>\n",
       "</div>"
      ],
      "text/plain": [
       "   Unnamed: 0  TRANSACTION_ID          TX_DATETIME  CUSTOMER_ID  TERMINAL_ID  \\\n",
       "0           0               0  2023-01-01 00:00:31          596         3156   \n",
       "1           1               1  2023-01-01 00:02:10         4961         3412   \n",
       "2           2               2  2023-01-01 00:07:56            2         1365   \n",
       "3           3               3  2023-01-01 00:09:29         4128         8737   \n",
       "4           4               4  2023-01-01 00:10:34          927         9906   \n",
       "\n",
       "   TX_AMOUNT  TX_TIME_SECONDS  TX_TIME_DAYS  TX_FRAUD  TX_FRAUD_SCENARIO  \n",
       "0     533.07               31             0         0                  0  \n",
       "1     808.56              130             0         0                  0  \n",
       "2    1442.94              476             0         1                  1  \n",
       "3     620.65              569             0         0                  0  \n",
       "4     490.66              634             0         0                  0  "
      ]
     },
     "execution_count": 4,
     "metadata": {},
     "output_type": "execute_result"
    }
   ],
   "source": [
    "# Data Overview\n",
    "\n",
    "data.head()"
   ]
  },
  {
   "cell_type": "code",
   "execution_count": 5,
   "id": "217d5be6",
   "metadata": {},
   "outputs": [],
   "source": [
    "# Renaming Columns for better comprehension\n",
    "\n",
    "data = data.rename(columns = {\"TRANSACTION_ID\" : \"Transaction ID\",\n",
    "                    \"TX_DATETIME\" : \"Transaction_date\",\n",
    "                    \"CUSTOMER_ID\" : \"Customer_ID\",\n",
    "                    \"TERMINAL_ID\" : \"Terminal_ID\",\n",
    "                   \"TX_AMOUNT\" : \"Transaction_Amount\",\n",
    "                   \"TX_TIME_SECONDS\" : \"Transaction_Time_Secs\",\n",
    "                   \"TX_TIME_DAYS\" : \"Transaction_Time_Days\",\n",
    "                   \"TX_FRAUD\" : \"Fraud_Status\",\n",
    "                   \"TX_FRAUD_SCENARIO\" : \"Fraud_Type\"})"
   ]
  },
  {
   "cell_type": "code",
   "execution_count": 6,
   "id": "0fb28bf1",
   "metadata": {},
   "outputs": [
    {
     "data": {
      "text/html": [
       "<div>\n",
       "<style scoped>\n",
       "    .dataframe tbody tr th:only-of-type {\n",
       "        vertical-align: middle;\n",
       "    }\n",
       "\n",
       "    .dataframe tbody tr th {\n",
       "        vertical-align: top;\n",
       "    }\n",
       "\n",
       "    .dataframe thead th {\n",
       "        text-align: right;\n",
       "    }\n",
       "</style>\n",
       "<table border=\"1\" class=\"dataframe\">\n",
       "  <thead>\n",
       "    <tr style=\"text-align: right;\">\n",
       "      <th></th>\n",
       "      <th>Unnamed: 0</th>\n",
       "      <th>Transaction ID</th>\n",
       "      <th>Transaction_date</th>\n",
       "      <th>Customer_ID</th>\n",
       "      <th>Terminal_ID</th>\n",
       "      <th>Transaction_Amount</th>\n",
       "      <th>Transaction_Time_Secs</th>\n",
       "      <th>Transaction_Time_Days</th>\n",
       "      <th>Fraud_Status</th>\n",
       "      <th>Fraud_Type</th>\n",
       "    </tr>\n",
       "  </thead>\n",
       "  <tbody>\n",
       "    <tr>\n",
       "      <th>0</th>\n",
       "      <td>0</td>\n",
       "      <td>0</td>\n",
       "      <td>2023-01-01 00:00:31</td>\n",
       "      <td>596</td>\n",
       "      <td>3156</td>\n",
       "      <td>533.07</td>\n",
       "      <td>31</td>\n",
       "      <td>0</td>\n",
       "      <td>0</td>\n",
       "      <td>0</td>\n",
       "    </tr>\n",
       "    <tr>\n",
       "      <th>1</th>\n",
       "      <td>1</td>\n",
       "      <td>1</td>\n",
       "      <td>2023-01-01 00:02:10</td>\n",
       "      <td>4961</td>\n",
       "      <td>3412</td>\n",
       "      <td>808.56</td>\n",
       "      <td>130</td>\n",
       "      <td>0</td>\n",
       "      <td>0</td>\n",
       "      <td>0</td>\n",
       "    </tr>\n",
       "    <tr>\n",
       "      <th>2</th>\n",
       "      <td>2</td>\n",
       "      <td>2</td>\n",
       "      <td>2023-01-01 00:07:56</td>\n",
       "      <td>2</td>\n",
       "      <td>1365</td>\n",
       "      <td>1442.94</td>\n",
       "      <td>476</td>\n",
       "      <td>0</td>\n",
       "      <td>1</td>\n",
       "      <td>1</td>\n",
       "    </tr>\n",
       "    <tr>\n",
       "      <th>3</th>\n",
       "      <td>3</td>\n",
       "      <td>3</td>\n",
       "      <td>2023-01-01 00:09:29</td>\n",
       "      <td>4128</td>\n",
       "      <td>8737</td>\n",
       "      <td>620.65</td>\n",
       "      <td>569</td>\n",
       "      <td>0</td>\n",
       "      <td>0</td>\n",
       "      <td>0</td>\n",
       "    </tr>\n",
       "    <tr>\n",
       "      <th>4</th>\n",
       "      <td>4</td>\n",
       "      <td>4</td>\n",
       "      <td>2023-01-01 00:10:34</td>\n",
       "      <td>927</td>\n",
       "      <td>9906</td>\n",
       "      <td>490.66</td>\n",
       "      <td>634</td>\n",
       "      <td>0</td>\n",
       "      <td>0</td>\n",
       "      <td>0</td>\n",
       "    </tr>\n",
       "  </tbody>\n",
       "</table>\n",
       "</div>"
      ],
      "text/plain": [
       "   Unnamed: 0  Transaction ID     Transaction_date  Customer_ID  Terminal_ID  \\\n",
       "0           0               0  2023-01-01 00:00:31          596         3156   \n",
       "1           1               1  2023-01-01 00:02:10         4961         3412   \n",
       "2           2               2  2023-01-01 00:07:56            2         1365   \n",
       "3           3               3  2023-01-01 00:09:29         4128         8737   \n",
       "4           4               4  2023-01-01 00:10:34          927         9906   \n",
       "\n",
       "   Transaction_Amount  Transaction_Time_Secs  Transaction_Time_Days  \\\n",
       "0              533.07                     31                      0   \n",
       "1              808.56                    130                      0   \n",
       "2             1442.94                    476                      0   \n",
       "3              620.65                    569                      0   \n",
       "4              490.66                    634                      0   \n",
       "\n",
       "   Fraud_Status  Fraud_Type  \n",
       "0             0           0  \n",
       "1             0           0  \n",
       "2             1           1  \n",
       "3             0           0  \n",
       "4             0           0  "
      ]
     },
     "execution_count": 6,
     "metadata": {},
     "output_type": "execute_result"
    }
   ],
   "source": [
    "# Data Overview after renaming columns\n",
    "data.head()"
   ]
  },
  {
   "cell_type": "code",
   "execution_count": 7,
   "id": "48dd26e2",
   "metadata": {},
   "outputs": [
    {
     "name": "stdout",
     "output_type": "stream",
     "text": [
      "<class 'pandas.core.frame.DataFrame'>\n",
      "RangeIndex: 1754155 entries, 0 to 1754154\n",
      "Data columns (total 10 columns):\n",
      " #   Column                 Dtype  \n",
      "---  ------                 -----  \n",
      " 0   Unnamed: 0             int64  \n",
      " 1   Transaction ID         int64  \n",
      " 2   Transaction_date       object \n",
      " 3   Customer_ID            int64  \n",
      " 4   Terminal_ID            int64  \n",
      " 5   Transaction_Amount     float64\n",
      " 6   Transaction_Time_Secs  int64  \n",
      " 7   Transaction_Time_Days  int64  \n",
      " 8   Fraud_Status           int64  \n",
      " 9   Fraud_Type             int64  \n",
      "dtypes: float64(1), int64(8), object(1)\n",
      "memory usage: 133.8+ MB\n"
     ]
    }
   ],
   "source": [
    "# Basic info of the dataset\n",
    "data.info()"
   ]
  },
  {
   "cell_type": "markdown",
   "id": "d1fb92ed",
   "metadata": {},
   "source": [
    "1. Transaction date is in object datatype which should be converted into datetime \n",
    "2. Target attribute is Fraud_status"
   ]
  },
  {
   "cell_type": "code",
   "execution_count": 8,
   "id": "02ff1f29",
   "metadata": {},
   "outputs": [
    {
     "data": {
      "text/plain": [
       "(1754155, 10)"
      ]
     },
     "execution_count": 8,
     "metadata": {},
     "output_type": "execute_result"
    }
   ],
   "source": [
    "# Shape of the dataset\n",
    "\n",
    "data.shape"
   ]
  },
  {
   "cell_type": "code",
   "execution_count": 9,
   "id": "aecd3f42",
   "metadata": {},
   "outputs": [
    {
     "data": {
      "text/plain": [
       "Unnamed: 0               0\n",
       "Transaction ID           0\n",
       "Transaction_date         0\n",
       "Customer_ID              0\n",
       "Terminal_ID              0\n",
       "Transaction_Amount       0\n",
       "Transaction_Time_Secs    0\n",
       "Transaction_Time_Days    0\n",
       "Fraud_Status             0\n",
       "Fraud_Type               0\n",
       "dtype: int64"
      ]
     },
     "execution_count": 9,
     "metadata": {},
     "output_type": "execute_result"
    }
   ],
   "source": [
    "# Null Value Check\n",
    "\n",
    "data.isnull().sum()"
   ]
  },
  {
   "cell_type": "markdown",
   "id": "70199234",
   "metadata": {},
   "source": [
    "As evident, there are no null values"
   ]
  },
  {
   "cell_type": "code",
   "execution_count": 10,
   "id": "6e6259c4",
   "metadata": {},
   "outputs": [
    {
     "data": {
      "text/plain": [
       "Unnamed: 0               1754155\n",
       "Transaction ID           1754155\n",
       "Transaction_date         1635076\n",
       "Customer_ID                 4990\n",
       "Terminal_ID                10000\n",
       "Transaction_Amount        177586\n",
       "Transaction_Time_Secs    1635076\n",
       "Transaction_Time_Days        183\n",
       "Fraud_Status                   2\n",
       "Fraud_Type                     4\n",
       "dtype: int64"
      ]
     },
     "execution_count": 10,
     "metadata": {},
     "output_type": "execute_result"
    }
   ],
   "source": [
    "# Check for Unique Values\n",
    "\n",
    "data.nunique()"
   ]
  },
  {
   "cell_type": "markdown",
   "id": "5f1e4f7f",
   "metadata": {},
   "source": [
    "## EDA"
   ]
  },
  {
   "cell_type": "code",
   "execution_count": 11,
   "id": "c9a04cbf",
   "metadata": {},
   "outputs": [
    {
     "data": {
      "text/html": [
       "<div>\n",
       "<style scoped>\n",
       "    .dataframe tbody tr th:only-of-type {\n",
       "        vertical-align: middle;\n",
       "    }\n",
       "\n",
       "    .dataframe tbody tr th {\n",
       "        vertical-align: top;\n",
       "    }\n",
       "\n",
       "    .dataframe thead th {\n",
       "        text-align: right;\n",
       "    }\n",
       "</style>\n",
       "<table border=\"1\" class=\"dataframe\">\n",
       "  <thead>\n",
       "    <tr style=\"text-align: right;\">\n",
       "      <th></th>\n",
       "      <th>Unnamed: 0</th>\n",
       "      <th>Transaction ID</th>\n",
       "      <th>Transaction_date</th>\n",
       "      <th>Customer_ID</th>\n",
       "      <th>Terminal_ID</th>\n",
       "      <th>Transaction_Amount</th>\n",
       "      <th>Transaction_Time_Secs</th>\n",
       "      <th>Transaction_Time_Days</th>\n",
       "      <th>Fraud_Status</th>\n",
       "      <th>Fraud_Type</th>\n",
       "    </tr>\n",
       "  </thead>\n",
       "  <tbody>\n",
       "    <tr>\n",
       "      <th>0</th>\n",
       "      <td>0</td>\n",
       "      <td>0</td>\n",
       "      <td>2023-01-01 00:00:31</td>\n",
       "      <td>596</td>\n",
       "      <td>3156</td>\n",
       "      <td>533.07</td>\n",
       "      <td>31</td>\n",
       "      <td>0</td>\n",
       "      <td>0</td>\n",
       "      <td>0</td>\n",
       "    </tr>\n",
       "    <tr>\n",
       "      <th>1</th>\n",
       "      <td>1</td>\n",
       "      <td>1</td>\n",
       "      <td>2023-01-01 00:02:10</td>\n",
       "      <td>4961</td>\n",
       "      <td>3412</td>\n",
       "      <td>808.56</td>\n",
       "      <td>130</td>\n",
       "      <td>0</td>\n",
       "      <td>0</td>\n",
       "      <td>0</td>\n",
       "    </tr>\n",
       "    <tr>\n",
       "      <th>2</th>\n",
       "      <td>2</td>\n",
       "      <td>2</td>\n",
       "      <td>2023-01-01 00:07:56</td>\n",
       "      <td>2</td>\n",
       "      <td>1365</td>\n",
       "      <td>1442.94</td>\n",
       "      <td>476</td>\n",
       "      <td>0</td>\n",
       "      <td>1</td>\n",
       "      <td>1</td>\n",
       "    </tr>\n",
       "    <tr>\n",
       "      <th>3</th>\n",
       "      <td>3</td>\n",
       "      <td>3</td>\n",
       "      <td>2023-01-01 00:09:29</td>\n",
       "      <td>4128</td>\n",
       "      <td>8737</td>\n",
       "      <td>620.65</td>\n",
       "      <td>569</td>\n",
       "      <td>0</td>\n",
       "      <td>0</td>\n",
       "      <td>0</td>\n",
       "    </tr>\n",
       "    <tr>\n",
       "      <th>4</th>\n",
       "      <td>4</td>\n",
       "      <td>4</td>\n",
       "      <td>2023-01-01 00:10:34</td>\n",
       "      <td>927</td>\n",
       "      <td>9906</td>\n",
       "      <td>490.66</td>\n",
       "      <td>634</td>\n",
       "      <td>0</td>\n",
       "      <td>0</td>\n",
       "      <td>0</td>\n",
       "    </tr>\n",
       "  </tbody>\n",
       "</table>\n",
       "</div>"
      ],
      "text/plain": [
       "   Unnamed: 0  Transaction ID     Transaction_date  Customer_ID  Terminal_ID  \\\n",
       "0           0               0  2023-01-01 00:00:31          596         3156   \n",
       "1           1               1  2023-01-01 00:02:10         4961         3412   \n",
       "2           2               2  2023-01-01 00:07:56            2         1365   \n",
       "3           3               3  2023-01-01 00:09:29         4128         8737   \n",
       "4           4               4  2023-01-01 00:10:34          927         9906   \n",
       "\n",
       "   Transaction_Amount  Transaction_Time_Secs  Transaction_Time_Days  \\\n",
       "0              533.07                     31                      0   \n",
       "1              808.56                    130                      0   \n",
       "2             1442.94                    476                      0   \n",
       "3              620.65                    569                      0   \n",
       "4              490.66                    634                      0   \n",
       "\n",
       "   Fraud_Status  Fraud_Type  \n",
       "0             0           0  \n",
       "1             0           0  \n",
       "2             1           1  \n",
       "3             0           0  \n",
       "4             0           0  "
      ]
     },
     "execution_count": 11,
     "metadata": {},
     "output_type": "execute_result"
    }
   ],
   "source": [
    "data.head()"
   ]
  },
  {
   "cell_type": "code",
   "execution_count": 12,
   "id": "189895ab",
   "metadata": {},
   "outputs": [
    {
     "data": {
      "image/png": "[encoded data removed]",
      "text/plain": [
       "<Figure size 432x288 with 1 Axes>"
      ]
     },
     "metadata": {
      "needs_background": "light"
     },
     "output_type": "display_data"
    }
   ],
   "source": [
    "# Pie Chart to check fraud transations and legitimate trasactions proportions\n",
    "sns.countplot(data = data, x = \"Fraud_Status\")\n",
    "plt.show()"
   ]
  },
  {
   "cell_type": "markdown",
   "id": "ff860b55",
   "metadata": {},
   "source": [
    "Oservation:\n",
    "\n",
    "Legitimate transactions are much higher than the fraud transactions"
   ]
  },
  {
   "cell_type": "code",
   "execution_count": 13,
   "id": "205fa2c3",
   "metadata": {},
   "outputs": [
    {
     "data": {
      "text/plain": [
       "234761"
      ]
     },
     "execution_count": 13,
     "metadata": {},
     "output_type": "execute_result"
    }
   ],
   "source": [
    "# Checking whether transaction time taken is resulting in fraud traction\n",
    "\n",
    "data[\"Fraud_Status\"].loc[(data[\"Transaction_Time_Days\"] > 0) & (data[\"Fraud_Status\"] == 1)].count()"
   ]
  },
  {
   "cell_type": "code",
   "execution_count": 14,
   "id": "d30136da",
   "metadata": {},
   "outputs": [
    {
     "data": {
      "text/plain": [
       "[9488, 1744667]"
      ]
     },
     "execution_count": 14,
     "metadata": {},
     "output_type": "execute_result"
    }
   ],
   "source": [
    "x = [data[\"Fraud_Status\"].loc[(data[\"Transaction_Time_Days\"]<=0)].count(), \n",
    "    data[\"Fraud_Status\"].loc[(data[\"Transaction_Time_Days\"] > 0)].count()]\n",
    "x"
   ]
  },
  {
   "cell_type": "code",
   "execution_count": 15,
   "id": "23fdd0d9",
   "metadata": {},
   "outputs": [
    {
     "data": {
      "text/plain": [
       "235969"
      ]
     },
     "execution_count": 15,
     "metadata": {},
     "output_type": "execute_result"
    }
   ],
   "source": [
    "# Check for total number of fraud transactions\n",
    "\n",
    "data[\"Fraud_Status\"].loc[~(data[\"Fraud_Status\"] == 0)].count()"
   ]
  },
  {
   "cell_type": "code",
   "execution_count": 16,
   "id": "d32ca671",
   "metadata": {},
   "outputs": [
    {
     "data": {
      "text/plain": [
       "1208"
      ]
     },
     "execution_count": 16,
     "metadata": {},
     "output_type": "execute_result"
    }
   ],
   "source": [
    "# Nos of transaction which are fraud and completed same day\n",
    "\n",
    "data[\"Fraud_Status\"].loc[(data[\"Transaction_Time_Days\"] < 1) & (data[\"Fraud_Status\"] == 1)].count()"
   ]
  },
  {
   "cell_type": "code",
   "execution_count": 17,
   "id": "e49560ef",
   "metadata": {},
   "outputs": [
    {
     "data": {
      "text/plain": [
       "1518186"
      ]
     },
     "execution_count": 17,
     "metadata": {},
     "output_type": "execute_result"
    }
   ],
   "source": [
    "# Ckeck for total number of Legitimate transactions\n",
    "\n",
    "data[\"Fraud_Status\"].loc[(data[\"Fraud_Status\"] == 0)].count()"
   ]
  },
  {
   "cell_type": "code",
   "execution_count": 18,
   "id": "7cdaf8f9",
   "metadata": {},
   "outputs": [
    {
     "data": {
      "text/plain": [
       "8280"
      ]
     },
     "execution_count": 18,
     "metadata": {},
     "output_type": "execute_result"
    }
   ],
   "source": [
    "# Nos of transaction which are Legitimate and completed same day\n",
    "\n",
    "data[\"Fraud_Status\"].loc[(data[\"Transaction_Time_Days\"] < 1) & (data[\"Fraud_Status\"] == 0)].count()"
   ]
  },
  {
   "cell_type": "code",
   "execution_count": 19,
   "id": "c208fb2a",
   "metadata": {},
   "outputs": [
    {
     "data": {
      "text/plain": [
       "1509906"
      ]
     },
     "execution_count": 19,
     "metadata": {},
     "output_type": "execute_result"
    }
   ],
   "source": [
    "# Nos of transaction which are Legitimate and completed after a day or more\n",
    "\n",
    "data[\"Fraud_Status\"].loc[(data[\"Transaction_Time_Days\"] > 0) & (data[\"Fraud_Status\"] == 0)].count()"
   ]
  },
  {
   "cell_type": "markdown",
   "id": "31295e75",
   "metadata": {},
   "source": [
    "Transaction_Time_Days for legitimate and fraud transactions are mostly greater than or equal to a day. Therefore this attribute cannot decide on the Fraud Transaction status"
   ]
  },
  {
   "cell_type": "code",
   "execution_count": 20,
   "id": "8e5721e8",
   "metadata": {},
   "outputs": [
    {
     "data": {
      "text/plain": [
       "177586"
      ]
     },
     "execution_count": 20,
     "metadata": {},
     "output_type": "execute_result"
    }
   ],
   "source": [
    "data[\"Transaction_Amount\"].nunique()"
   ]
  },
  {
   "cell_type": "code",
   "execution_count": 21,
   "id": "bced6f2d",
   "metadata": {},
   "outputs": [
    {
     "data": {
      "text/plain": [
       "10000"
      ]
     },
     "execution_count": 21,
     "metadata": {},
     "output_type": "execute_result"
    }
   ],
   "source": [
    "data[\"Terminal_ID\"].nunique()"
   ]
  },
  {
   "cell_type": "code",
   "execution_count": 22,
   "id": "89444045",
   "metadata": {},
   "outputs": [
    {
     "data": {
      "image/png": "[encoded data removed]",
      "text/plain": [
       "<Figure size 1152x576 with 2 Axes>"
      ]
     },
     "metadata": {
      "needs_background": "light"
     },
     "output_type": "display_data"
    }
   ],
   "source": [
    "# Plot Corelation Matrix\n",
    "plt.figure(figsize = (16,8))\n",
    "correlation = data.corr().round(5)\n",
    "sns.heatmap(correlation, annot = True, cmap=\"viridis\")\n",
    "plt.show()"
   ]
  },
  {
   "cell_type": "markdown",
   "id": "b867555f",
   "metadata": {},
   "source": [
    "The following attribute pairs are highly co-related i.e pearsons co-efficient greater than 0.70\n",
    "\n",
    "1. Unnamed & Transaction_Time_Days\n",
    "2. Unnamed & Transaction_Time_Secs\n",
    "3. Transaction ID & Transaction_Time_Days\n",
    "4. Transaction ID & Transaction_Time_Secs\n",
    "5. Transaction_Time_Secs & Transaction_Time_Days\n",
    "6. Fraud_Status & Fraud_Type\n",
    "\n",
    "Therefore, we can drop attributes - Unnamed, Transaction_ID, Transaction_time_Secs & Fraud Type based on the corelations. Fraud_Status cannot be dropped as it is our Target Variable"
   ]
  },
  {
   "cell_type": "code",
   "execution_count": 23,
   "id": "1c003a04",
   "metadata": {},
   "outputs": [],
   "source": [
    "# Drop the non-significant attributes\n",
    "\n",
    "data = data.drop(columns = [\"Unnamed: 0\", \"Transaction ID\", \"Transaction_Time_Secs\", \"Fraud_Type\"], axis = 1)"
   ]
  },
  {
   "cell_type": "code",
   "execution_count": 24,
   "id": "cccf8834",
   "metadata": {},
   "outputs": [
    {
     "data": {
      "text/html": [
       "<div>\n",
       "<style scoped>\n",
       "    .dataframe tbody tr th:only-of-type {\n",
       "        vertical-align: middle;\n",
       "    }\n",
       "\n",
       "    .dataframe tbody tr th {\n",
       "        vertical-align: top;\n",
       "    }\n",
       "\n",
       "    .dataframe thead th {\n",
       "        text-align: right;\n",
       "    }\n",
       "</style>\n",
       "<table border=\"1\" class=\"dataframe\">\n",
       "  <thead>\n",
       "    <tr style=\"text-align: right;\">\n",
       "      <th></th>\n",
       "      <th>Transaction_date</th>\n",
       "      <th>Customer_ID</th>\n",
       "      <th>Terminal_ID</th>\n",
       "      <th>Transaction_Amount</th>\n",
       "      <th>Transaction_Time_Days</th>\n",
       "      <th>Fraud_Status</th>\n",
       "    </tr>\n",
       "  </thead>\n",
       "  <tbody>\n",
       "    <tr>\n",
       "      <th>0</th>\n",
       "      <td>2023-01-01 00:00:31</td>\n",
       "      <td>596</td>\n",
       "      <td>3156</td>\n",
       "      <td>533.07</td>\n",
       "      <td>0</td>\n",
       "      <td>0</td>\n",
       "    </tr>\n",
       "    <tr>\n",
       "      <th>1</th>\n",
       "      <td>2023-01-01 00:02:10</td>\n",
       "      <td>4961</td>\n",
       "      <td>3412</td>\n",
       "      <td>808.56</td>\n",
       "      <td>0</td>\n",
       "      <td>0</td>\n",
       "    </tr>\n",
       "    <tr>\n",
       "      <th>2</th>\n",
       "      <td>2023-01-01 00:07:56</td>\n",
       "      <td>2</td>\n",
       "      <td>1365</td>\n",
       "      <td>1442.94</td>\n",
       "      <td>0</td>\n",
       "      <td>1</td>\n",
       "    </tr>\n",
       "    <tr>\n",
       "      <th>3</th>\n",
       "      <td>2023-01-01 00:09:29</td>\n",
       "      <td>4128</td>\n",
       "      <td>8737</td>\n",
       "      <td>620.65</td>\n",
       "      <td>0</td>\n",
       "      <td>0</td>\n",
       "    </tr>\n",
       "    <tr>\n",
       "      <th>4</th>\n",
       "      <td>2023-01-01 00:10:34</td>\n",
       "      <td>927</td>\n",
       "      <td>9906</td>\n",
       "      <td>490.66</td>\n",
       "      <td>0</td>\n",
       "      <td>0</td>\n",
       "    </tr>\n",
       "  </tbody>\n",
       "</table>\n",
       "</div>"
      ],
      "text/plain": [
       "      Transaction_date  Customer_ID  Terminal_ID  Transaction_Amount  \\\n",
       "0  2023-01-01 00:00:31          596         3156              533.07   \n",
       "1  2023-01-01 00:02:10         4961         3412              808.56   \n",
       "2  2023-01-01 00:07:56            2         1365             1442.94   \n",
       "3  2023-01-01 00:09:29         4128         8737              620.65   \n",
       "4  2023-01-01 00:10:34          927         9906              490.66   \n",
       "\n",
       "   Transaction_Time_Days  Fraud_Status  \n",
       "0                      0             0  \n",
       "1                      0             0  \n",
       "2                      0             1  \n",
       "3                      0             0  \n",
       "4                      0             0  "
      ]
     },
     "execution_count": 24,
     "metadata": {},
     "output_type": "execute_result"
    }
   ],
   "source": [
    "# Overview of dataset\n",
    "data.head()"
   ]
  },
  {
   "cell_type": "markdown",
   "id": "e8a35891",
   "metadata": {},
   "source": [
    "## Data Preprocessing"
   ]
  },
  {
   "cell_type": "code",
   "execution_count": 25,
   "id": "f038875a",
   "metadata": {},
   "outputs": [
    {
     "name": "stdout",
     "output_type": "stream",
     "text": [
      "<class 'pandas.core.frame.DataFrame'>\n",
      "RangeIndex: 1754155 entries, 0 to 1754154\n",
      "Data columns (total 6 columns):\n",
      " #   Column                 Dtype  \n",
      "---  ------                 -----  \n",
      " 0   Transaction_date       object \n",
      " 1   Customer_ID            int64  \n",
      " 2   Terminal_ID            int64  \n",
      " 3   Transaction_Amount     float64\n",
      " 4   Transaction_Time_Days  int64  \n",
      " 5   Fraud_Status           int64  \n",
      "dtypes: float64(1), int64(4), object(1)\n",
      "memory usage: 80.3+ MB\n"
     ]
    }
   ],
   "source": [
    "# Check for Datatype of Attributes\n",
    "data.info()"
   ]
  },
  {
   "cell_type": "markdown",
   "id": "e390bcdc",
   "metadata": {},
   "source": [
    "Lets convert Transaction_date attribute datatype from 'object' to 'datetime'"
   ]
  },
  {
   "cell_type": "code",
   "execution_count": 26,
   "id": "a567ee57",
   "metadata": {},
   "outputs": [],
   "source": [
    "data[\"Transaction_date\"] = pd.to_datetime(data[\"Transaction_date\"])\n",
    "data[\"Customer_ID\"] = data[\"Customer_ID\"].astype(\"str\")\n",
    "data[\"Terminal_ID\"] = data[\"Terminal_ID\"].astype(\"str\")"
   ]
  },
  {
   "cell_type": "code",
   "execution_count": 27,
   "id": "142ee17f",
   "metadata": {},
   "outputs": [
    {
     "name": "stdout",
     "output_type": "stream",
     "text": [
      "<class 'pandas.core.frame.DataFrame'>\n",
      "RangeIndex: 1754155 entries, 0 to 1754154\n",
      "Data columns (total 6 columns):\n",
      " #   Column                 Dtype         \n",
      "---  ------                 -----         \n",
      " 0   Transaction_date       datetime64[ns]\n",
      " 1   Customer_ID            object        \n",
      " 2   Terminal_ID            object        \n",
      " 3   Transaction_Amount     float64       \n",
      " 4   Transaction_Time_Days  int64         \n",
      " 5   Fraud_Status           int64         \n",
      "dtypes: datetime64[ns](1), float64(1), int64(2), object(2)\n",
      "memory usage: 80.3+ MB\n"
     ]
    }
   ],
   "source": [
    "data.info()"
   ]
  },
  {
   "cell_type": "code",
   "execution_count": 28,
   "id": "dbd09ae0",
   "metadata": {},
   "outputs": [],
   "source": [
    "# Train Test Split\n",
    "X = data.drop([\"Fraud_Status\", \"Transaction_date\"], axis = 1)\n",
    "y = data[\"Fraud_Status\"]\n",
    "\n",
    "X_train, X_test, y_train, y_test = train_test_split(X, y, test_size = 0.3, random_state = 19)"
   ]
  },
  {
   "cell_type": "code",
   "execution_count": 29,
   "id": "da77730f",
   "metadata": {},
   "outputs": [
    {
     "data": {
      "image/png": "[encoded data removed]",
      "text/plain": [
       "<Figure size 432x288 with 1 Axes>"
      ]
     },
     "metadata": {
      "needs_background": "light"
     },
     "output_type": "display_data"
    }
   ],
   "source": [
    "# Check for y data distribution\n",
    "\n",
    "y.value_counts().plot(kind = \"bar\")\n",
    "plt.xticks (rotation = 0)\n",
    "plt.show()"
   ]
  },
  {
   "cell_type": "markdown",
   "id": "0b844b01",
   "metadata": {},
   "source": [
    "As it is evident that data is imbalance in target variable. We shall build the model with the same distribution. Subsequently, we shall oversample the minority class and build the model again."
   ]
  },
  {
   "cell_type": "markdown",
   "id": "26e44397",
   "metadata": {},
   "source": [
    "# Model - Logistic Regression"
   ]
  },
  {
   "cell_type": "code",
   "execution_count": 30,
   "id": "7593a4bc",
   "metadata": {},
   "outputs": [],
   "source": [
    "# Call and store Logistic Regression to a variable\n",
    "log_reg = LogisticRegression()"
   ]
  },
  {
   "cell_type": "code",
   "execution_count": 31,
   "id": "d9c418cd",
   "metadata": {},
   "outputs": [
    {
     "data": {
      "text/plain": [
       "LogisticRegression()"
      ]
     },
     "execution_count": 31,
     "metadata": {},
     "output_type": "execute_result"
    }
   ],
   "source": [
    "# Fit training dataset\n",
    "\n",
    "log_reg.fit(X_train, y_train)"
   ]
  },
  {
   "cell_type": "code",
   "execution_count": 32,
   "id": "12db031e",
   "metadata": {},
   "outputs": [],
   "source": [
    "# Predict test dataset\n",
    "y_pred = log_reg.predict(X_test)"
   ]
  },
  {
   "cell_type": "code",
   "execution_count": 33,
   "id": "94bc3e26",
   "metadata": {},
   "outputs": [],
   "source": [
    "# Compute accuracy & confusion matrix as a measure of prediction\n",
    "con_mat = confusion_matrix(y_pred, y_test)\n",
    "acc_score = accuracy_score(y_pred, y_test)"
   ]
  },
  {
   "cell_type": "code",
   "execution_count": 34,
   "id": "575b6c1b",
   "metadata": {},
   "outputs": [
    {
     "name": "stdout",
     "output_type": "stream",
     "text": [
      "[[455343   3113]\n",
      " [    24  67767]]\n",
      "99.4\n"
     ]
    }
   ],
   "source": [
    "print(con_mat)\n",
    "print(round(acc_score*100, 2))"
   ]
  },
  {
   "cell_type": "code",
   "execution_count": 35,
   "id": "a0e09958",
   "metadata": {},
   "outputs": [
    {
     "name": "stdout",
     "output_type": "stream",
     "text": [
      "0.9560806997742664 \n",
      " 0.9996459707040758\n"
     ]
    }
   ],
   "source": [
    "# Compute precision and recall\n",
    "\n",
    "# In the current scenario, recall is more important than precision. \n",
    "# Precision = TP / (TP+FP) -- A legitimate transaction is classified as Fraud \n",
    "# Recall = TP / (TP+FN) -- A Fraud transaction is classified as legitimate \n",
    "# A legitimate transaction classified as fraud has less adverse affect than viceversa therefore recall is pivotal\n",
    "\n",
    "precision = precision_score(y_pred, y_test)\n",
    "recall = recall_score(y_pred, y_test)\n",
    "\n",
    "print(precision, \"\\n\", recall)"
   ]
  },
  {
   "cell_type": "markdown",
   "id": "4661b671",
   "metadata": {},
   "source": [
    "Logistic Regression model fits very well. \n",
    "\n",
    "However, the same model may not predict the right class for the newdata. Since the current data on which model is trained is bias.\n",
    "\n",
    "Therefore we shall oversample fraud class to match legitimate class so that model can learn more precise pattern."
   ]
  },
  {
   "cell_type": "markdown",
   "id": "669961dd",
   "metadata": {},
   "source": [
    "# Oversampling Technique\n",
    "\n",
    "This technique is used to reproduce synthetic labels of the minority class to match the majority class"
   ]
  },
  {
   "cell_type": "code",
   "execution_count": 36,
   "id": "9a99fab9",
   "metadata": {},
   "outputs": [],
   "source": [
    "sm = SMOTE(random_state=19)"
   ]
  },
  {
   "cell_type": "code",
   "execution_count": 37,
   "id": "9d32b57a",
   "metadata": {},
   "outputs": [],
   "source": [
    "X_train_os, y_train_os = sm.fit_resample(X_train, y_train)"
   ]
  },
  {
   "cell_type": "code",
   "execution_count": 38,
   "id": "8ad6f280",
   "metadata": {},
   "outputs": [
    {
     "name": "stdout",
     "output_type": "stream",
     "text": [
      "Before Oversampling, total count of label '1' : 165089\n",
      "Before Oversampling, total count of label '0' : 1062819\n",
      "After Oversamplling, shape of X_train : (2125638, 4)\n",
      "After Oversamplling, shape of y_train : (2125638,)\n",
      "After Oversampling, total count of label '1' : 1062819\n",
      "After Oversampling, total count of label '0' : 1062819\n"
     ]
    }
   ],
   "source": [
    "print(\"Before Oversampling, total count of label '1' : {}\".format(sum(y_train==1)))\n",
    "print(\"Before Oversampling, total count of label '0' : {}\".format(sum(y_train==0)))\n",
    "\n",
    "print(\"After Oversamplling, shape of X_train : {}\".format(X_train_os.shape))\n",
    "print(\"After Oversamplling, shape of y_train : {}\".format(y_train_os.shape))\n",
    "\n",
    "print(\"After Oversampling, total count of label '1' : {}\".format(sum(y_train_os==1)))\n",
    "print(\"After Oversampling, total count of label '0' : {}\".format(sum(y_train_os==0)))"
   ]
  },
  {
   "cell_type": "code",
   "execution_count": 39,
   "id": "6afe9db7",
   "metadata": {},
   "outputs": [
    {
     "data": {
      "text/plain": [
       "LogisticRegression()"
      ]
     },
     "execution_count": 39,
     "metadata": {},
     "output_type": "execute_result"
    }
   ],
   "source": [
    "# Training the oversampled data for Logistic regression model\n",
    "\n",
    "log_reg.fit(X_train_os, y_train_os)"
   ]
  },
  {
   "cell_type": "code",
   "execution_count": 40,
   "id": "dbeb7546",
   "metadata": {},
   "outputs": [],
   "source": [
    "y_pred_os = log_reg.predict(X_test)"
   ]
  },
  {
   "cell_type": "code",
   "execution_count": 41,
   "id": "732fbe7c",
   "metadata": {},
   "outputs": [
    {
     "name": "stdout",
     "output_type": "stream",
     "text": [
      "Confustion matrix after oversampling : \n",
      "[[427350   2324]\n",
      " [ 28017  68556]]\n",
      "Accuracy Score after oversampling : \n",
      "94.23%\n"
     ]
    }
   ],
   "source": [
    "con_mat_os = confusion_matrix(y_pred_os, y_test)\n",
    "acc_score = accuracy_score(y_pred_os, y_test)\n",
    "\n",
    "print(\"Confustion matrix after oversampling : \\n{}\".format(con_mat_os))\n",
    "print(\"Accuracy Score after oversampling : \\n{}%\".format(round(acc_score*100,2)))"
   ]
  },
  {
   "cell_type": "markdown",
   "id": "3734c831",
   "metadata": {},
   "source": [
    "Previously due to sampling bias the accuracy was close to 100%, however, after non-biased sampling accuracy has dropped to 94%.\n",
    "\n",
    "Let us train the model using other classifiers"
   ]
  },
  {
   "cell_type": "markdown",
   "id": "f750951e",
   "metadata": {},
   "source": [
    "# K-nearest neighbors"
   ]
  },
  {
   "cell_type": "code",
   "execution_count": 42,
   "id": "7787d9a1",
   "metadata": {},
   "outputs": [],
   "source": [
    "knn = KNeighborsClassifier()"
   ]
  },
  {
   "cell_type": "code",
   "execution_count": null,
   "id": "6057eabd",
   "metadata": {},
   "outputs": [],
   "source": [
    "# Finding the best parameters before fitting the model\n",
    "\n",
    "parameters = {\"n_neighbors\" : [1,2,3,5,6,7], \n",
    "              \"weights\" : [\"uniform\", \"distance\"], \n",
    "              \"leaf_size\" : [5,10,15,20,25]}\n",
    "gs_cv_knn = GridSearchCV(knn, param_grid=parameters)\n",
    "gs_cv_knn.fit(X_train_os, y_train_os)"
   ]
  },
  {
   "cell_type": "code",
   "execution_count": null,
   "id": "43e91027",
   "metadata": {},
   "outputs": [],
   "source": []
  }
 ],
 "metadata": {
  "kernelspec": {
   "display_name": "Python 3 (ipykernel)",
   "language": "python",
   "name": "python3"
  },
  "language_info": {
   "codemirror_mode": {
    "name": "ipython",
    "version": 3
   },
   "file_extension": ".py",
   "mimetype": "text/x-python",
   "name": "python",
   "nbconvert_exporter": "python",
   "pygments_lexer": "ipython3",
   "version": "3.9.12"
  }
 },
 "nbformat": 4,
 "nbformat_minor": 5
}
